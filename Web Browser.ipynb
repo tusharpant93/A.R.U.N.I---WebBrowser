{
 "cells": [
  {
   "cell_type": "code",
   "execution_count": 1,
   "metadata": {},
   "outputs": [
    {
     "name": "stdout",
     "output_type": "stream",
     "text": [
      "Collecting PyQt5\n",
      "  Downloading PyQt5-5.15.6-cp36-abi3-macosx_10_13_x86_64.whl (7.0 MB)\n",
      "\u001b[K     |████████████████████████████████| 7.0 MB 4.1 MB/s eta 0:00:01\n",
      "\u001b[?25hCollecting PyQt5-Qt5>=5.15.2\n",
      "  Downloading PyQt5_Qt5-5.15.2-py3-none-macosx_10_13_intel.whl (40.5 MB)\n",
      "\u001b[K     |████████████████████████████████| 40.5 MB 16.8 MB/s eta 0:00:01\n",
      "\u001b[?25hCollecting PyQt5-sip<13,>=12.8\n",
      "  Downloading PyQt5_sip-12.9.1-cp38-cp38-macosx_10_9_x86_64.whl (83 kB)\n",
      "\u001b[K     |████████████████████████████████| 83 kB 18.3 MB/s eta 0:00:011\n",
      "\u001b[?25hInstalling collected packages: PyQt5-Qt5, PyQt5-sip, PyQt5\n",
      "\u001b[31mERROR: After October 2020 you may experience errors when installing or updating packages. This is because pip will change the way that it resolves dependency conflicts.\n",
      "\n",
      "We recommend you use --use-feature=2020-resolver to test your packages with the new resolver before it becomes the default.\n",
      "\n",
      "spyder 4.1.5 requires pyqtwebengine<5.13; python_version >= \"3\", which is not installed.\n",
      "spyder 4.1.5 requires pyqt5<5.13; python_version >= \"3\", but you'll have pyqt5 5.15.6 which is incompatible.\u001b[0m\n",
      "Successfully installed PyQt5-5.15.6 PyQt5-Qt5-5.15.2 PyQt5-sip-12.9.1\n",
      "Note: you may need to restart the kernel to use updated packages.\n"
     ]
    }
   ],
   "source": [
    "pip install PyQt5"
   ]
  },
  {
   "cell_type": "code",
   "execution_count": 2,
   "metadata": {},
   "outputs": [
    {
     "name": "stdout",
     "output_type": "stream",
     "text": [
      "Collecting PyQtWebEngine\n",
      "  Downloading PyQtWebEngine-5.15.5-cp36-abi3-macosx_10_13_x86_64.whl (186 kB)\n",
      "\u001b[K     |████████████████████████████████| 186 kB 4.2 MB/s eta 0:00:01\n",
      "\u001b[?25hCollecting PyQtWebEngine-Qt5>=5.15.2\n",
      "  Downloading PyQtWebEngine_Qt5-5.15.2-py3-none-macosx_10_13_intel.whl (77.9 MB)\n",
      "\u001b[K     |████████████████████████████████| 77.9 MB 27.6 MB/s eta 0:00:01\n",
      "\u001b[?25hRequirement already satisfied: PyQt5-sip<13,>=12.8 in /opt/anaconda3/lib/python3.8/site-packages (from PyQtWebEngine) (12.9.1)\n",
      "Requirement already satisfied: PyQt5>=5.15.4 in /opt/anaconda3/lib/python3.8/site-packages (from PyQtWebEngine) (5.15.6)\n",
      "Requirement already satisfied: PyQt5-Qt5>=5.15.2 in /opt/anaconda3/lib/python3.8/site-packages (from PyQt5>=5.15.4->PyQtWebEngine) (5.15.2)\n",
      "Installing collected packages: PyQtWebEngine-Qt5, PyQtWebEngine\n",
      "\u001b[31mERROR: After October 2020 you may experience errors when installing or updating packages. This is because pip will change the way that it resolves dependency conflicts.\n",
      "\n",
      "We recommend you use --use-feature=2020-resolver to test your packages with the new resolver before it becomes the default.\n",
      "\n",
      "spyder 4.1.5 requires pyqt5<5.13; python_version >= \"3\", but you'll have pyqt5 5.15.6 which is incompatible.\n",
      "spyder 4.1.5 requires pyqtwebengine<5.13; python_version >= \"3\", but you'll have pyqtwebengine 5.15.5 which is incompatible.\u001b[0m\n",
      "Successfully installed PyQtWebEngine-5.15.5 PyQtWebEngine-Qt5-5.15.2\n",
      "Note: you may need to restart the kernel to use updated packages.\n"
     ]
    }
   ],
   "source": [
    "pip install PyQtWebEngine"
   ]
  },
  {
   "cell_type": "code",
   "execution_count": 3,
   "metadata": {},
   "outputs": [],
   "source": [
    "import sys\n",
    "from PyQt5.QtCore import *\n",
    "from PyQt5.QtWidgets import *\n",
    "from PyQt5.QtWebEngineWidgets import *"
   ]
  },
  {
   "cell_type": "code",
   "execution_count": 4,
   "metadata": {},
   "outputs": [],
   "source": [
    "class MainWindow(QMainWindow):\n",
    "    def __init__(self):\n",
    "        super(MainWindow, self).__init__()\n",
    "        self.browser = QWebEngineView()\n",
    "        self.browser.setUrl(QUrl('https://google.com'))\n",
    "        self.setCentralWidget(self.browser)\n",
    "        self.showMaximized()"
   ]
  },
  {
   "cell_type": "code",
   "execution_count": 8,
   "metadata": {},
   "outputs": [
    {
     "ename": "IndentationError",
     "evalue": "unexpected indent (<ipython-input-8-40abe7893148>, line 2)",
     "output_type": "error",
     "traceback": [
      "\u001b[0;36m  File \u001b[0;32m\"<ipython-input-8-40abe7893148>\"\u001b[0;36m, line \u001b[0;32m2\u001b[0m\n\u001b[0;31m    self.addToolBar(navbar)\u001b[0m\n\u001b[0m    ^\u001b[0m\n\u001b[0;31mIndentationError\u001b[0m\u001b[0;31m:\u001b[0m unexpected indent\n"
     ]
    }
   ],
   "source": [
    " navbar = QToolBar()\n",
    "        self.addToolBar(navbar)\n",
    "\n",
    "        back_btn = QAction('Back', self)\n",
    "        back_btn.triggered.connect(self.browser.back)\n",
    "        navbar.addAction(back_btn)\n",
    "\n",
    "        forward_btn = QAction('Forward', self)\n",
    "        forward_btn.triggered.connect(self.browser.forward)\n",
    "        navbar.addAction(forward_btn)\n",
    "\n",
    "        reload_btn = QAction('Reload', self)\n",
    "        reload_btn.triggered.connect(self.browser.reload)\n",
    "        navbar.addAction(reload_btn)\n",
    "\n",
    "        home_btn = QAction('Home', self)\n",
    "        home_btn.triggered.connect(self.navigate_home)\n",
    "        navbar.addAction(home_btn)"
   ]
  },
  {
   "cell_type": "code",
   "execution_count": 7,
   "metadata": {},
   "outputs": [
    {
     "ename": "IndentationError",
     "evalue": "unexpected indent (<ipython-input-7-32f8f72217be>, line 7)",
     "output_type": "error",
     "traceback": [
      "\u001b[0;36m  File \u001b[0;32m\"<ipython-input-7-32f8f72217be>\"\u001b[0;36m, line \u001b[0;32m7\u001b[0m\n\u001b[0;31m    def navigate_home(self):\u001b[0m\n\u001b[0m    ^\u001b[0m\n\u001b[0;31mIndentationError\u001b[0m\u001b[0;31m:\u001b[0m unexpected indent\n"
     ]
    }
   ],
   "source": [
    "self.url_bar = QLineEdit()\n",
    "self.url_bar.returnPressed.connect(self.navigate_to_url)\n",
    "navbar.addWidget(self.url_bar)\n",
    "\n",
    "self.browser.urlChanged.connect(self.update_url)\n",
    "\n",
    "    def navigate_home(self):\n",
    "        self.browser.setUrl(QUrl('https://google.com'))\n",
    "\n",
    "    def navigate_to_url(self):\n",
    "        url = self.url_bar.text()\n",
    "        self.browser.setUrl(QUrl(url))\n",
    "\n",
    "    def update_url(self, q):\n",
    "        self.url_bar.setText(q.toString())"
   ]
  },
  {
   "cell_type": "code",
   "execution_count": 9,
   "metadata": {},
   "outputs": [
    {
     "data": {
      "text/plain": [
       "0"
      ]
     },
     "execution_count": 9,
     "metadata": {},
     "output_type": "execute_result"
    }
   ],
   "source": [
    "import sys\n",
    "from PyQt5.QtCore import *\n",
    "from PyQt5.QtWidgets import *\n",
    "from PyQt5.QtWebEngineWidgets import *\n",
    "\n",
    "\n",
    "class MainWindow(QMainWindow):\n",
    "    def __init__(self):\n",
    "        super(MainWindow, self).__init__()\n",
    "        self.browser = QWebEngineView()\n",
    "        self.browser.setUrl(QUrl('https://google.com'))\n",
    "        self.setCentralWidget(self.browser)\n",
    "        self.showMaximized()\n",
    "\n",
    "        # navbar\n",
    "        navbar = QToolBar()\n",
    "        self.addToolBar(navbar)\n",
    "\n",
    "        back_btn = QAction('Back', self)\n",
    "        back_btn.triggered.connect(self.browser.back)\n",
    "        navbar.addAction(back_btn)\n",
    "\n",
    "        forward_btn = QAction('Forward', self)\n",
    "        forward_btn.triggered.connect(self.browser.forward)\n",
    "        navbar.addAction(forward_btn)\n",
    "\n",
    "        reload_btn = QAction('Reload', self)\n",
    "        reload_btn.triggered.connect(self.browser.reload)\n",
    "        navbar.addAction(reload_btn)\n",
    "\n",
    "        home_btn = QAction('Home', self)\n",
    "        home_btn.triggered.connect(self.navigate_home)\n",
    "        navbar.addAction(home_btn)\n",
    "\n",
    "        self.url_bar = QLineEdit()\n",
    "        self.url_bar.returnPressed.connect(self.navigate_to_url)\n",
    "        navbar.addWidget(self.url_bar)\n",
    "\n",
    "        self.browser.urlChanged.connect(self.update_url)\n",
    "\n",
    "    def navigate_home(self):\n",
    "        self.browser.setUrl(QUrl('https://programming-hero.com'))\n",
    "\n",
    "    def navigate_to_url(self):\n",
    "        url = self.url_bar.text()\n",
    "        self.browser.setUrl(QUrl(url))\n",
    "\n",
    "    def update_url(self, q):\n",
    "        self.url_bar.setText(q.toString())\n",
    "\n",
    "\n",
    "app = QApplication(sys.argv)\n",
    "QApplication.setApplicationName('My Cool Browser')\n",
    "window = MainWindow()\n",
    "app.exec_()"
   ]
  },
  {
   "cell_type": "code",
   "execution_count": null,
   "metadata": {},
   "outputs": [],
   "source": []
  }
 ],
 "metadata": {
  "kernelspec": {
   "display_name": "Python 3",
   "language": "python",
   "name": "python3"
  },
  "language_info": {
   "codemirror_mode": {
    "name": "ipython",
    "version": 3
   },
   "file_extension": ".py",
   "mimetype": "text/x-python",
   "name": "python",
   "nbconvert_exporter": "python",
   "pygments_lexer": "ipython3",
   "version": "3.8.5"
  }
 },
 "nbformat": 4,
 "nbformat_minor": 4
}
